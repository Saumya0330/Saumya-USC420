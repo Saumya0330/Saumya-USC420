{
  "nbformat": 4,
  "nbformat_minor": 0,
  "metadata": {
    "colab": {
      "provenance": [],
      "authorship_tag": "ABX9TyPY6ONfKQQetH71utn3kx5l",
      "include_colab_link": true
    },
    "kernelspec": {
      "name": "python3",
      "display_name": "Python 3"
    },
    "language_info": {
      "name": "python"
    }
  },
  "cells": [
    {
      "cell_type": "markdown",
      "metadata": {
        "id": "view-in-github",
        "colab_type": "text"
      },
      "source": [
        "<a href=\"https://colab.research.google.com/github/Saumya0330/Saumya-USC712/blob/main/assignment1.ipynb\" target=\"_parent\"><img src=\"https://colab.research.google.com/assets/colab-badge.svg\" alt=\"Open In Colab\"/></a>"
      ]
    },
    {
      "cell_type": "markdown",
      "source": [
        "Assingment 1.1: WAP to print your name three times"
      ],
      "metadata": {
        "id": "oWlxapZZdnJV"
      }
    },
    {
      "cell_type": "code",
      "source": [
        "for i in range(3):\n",
        "  print('Saumya')"
      ],
      "metadata": {
        "colab": {
          "base_uri": "https://localhost:8080/"
        },
        "id": "1ddihadYdo2r",
        "outputId": "3556445c-d6f2-47be-ab36-19e90fe27a38"
      },
      "execution_count": 1,
      "outputs": [
        {
          "output_type": "stream",
          "name": "stdout",
          "text": [
            "Saumya\n",
            "Saumya\n",
            "Saumya\n"
          ]
        }
      ]
    },
    {
      "cell_type": "markdown",
      "source": [
        "Assingment 2.1: WAP to add three numbers and print the result."
      ],
      "metadata": {
        "id": "X435631ESuPb"
      }
    },
    {
      "cell_type": "code",
      "source": [
        "a=int(input('enter number1 '))\n",
        "b=int(input('enter number2 '))\n",
        "c=int(input('enter number3 '))\n",
        "d=a+b+c\n",
        "print('sum is ',d)"
      ],
      "metadata": {
        "colab": {
          "base_uri": "https://localhost:8080/"
        },
        "id": "qoxF-6RnSvbX",
        "outputId": "386d52af-ec35-4a52-d7d5-7adee0b1c95e"
      },
      "execution_count": 4,
      "outputs": [
        {
          "output_type": "stream",
          "name": "stdout",
          "text": [
            "enter number1 1\n",
            "enter number2 2\n",
            "enter number3 3\n",
            "sum is  6\n"
          ]
        }
      ]
    },
    {
      "cell_type": "markdown",
      "source": [
        "Assingment 2.2: WAP to concatinate three strings and print the result.\n",
        "\n"
      ],
      "metadata": {
        "id": "gY80EDKBTXqp"
      }
    },
    {
      "cell_type": "code",
      "source": [
        "a=str(input('enter string1 '))\n",
        "b=str(input('enter string2 '))\n",
        "c=str(input('enter string3 '))\n",
        "d=a+b+c\n",
        "print('concatenated string is ',d)"
      ],
      "metadata": {
        "colab": {
          "base_uri": "https://localhost:8080/"
        },
        "id": "Vk-v6FNQTXS_",
        "outputId": "d09c41ed-fbe7-46fc-9e6c-c7e8aa11c7fc"
      },
      "execution_count": 7,
      "outputs": [
        {
          "output_type": "stream",
          "name": "stdout",
          "text": [
            "enter string1 how\n",
            "enter string2 are\n",
            "enter string3 you?\n",
            "concatenated string is  howareyou?\n"
          ]
        }
      ]
    },
    {
      "cell_type": "markdown",
      "source": [
        "Assingment 4.1: WAP to print the table of 7, 9."
      ],
      "metadata": {
        "id": "TDdldLOlYFQX"
      }
    },
    {
      "cell_type": "code",
      "source": [
        "for i in range(1,11):\n",
        "  print('7 X ',i,' = ',7*i,'\\t9 x ',i,' = ',9*i)"
      ],
      "metadata": {
        "colab": {
          "base_uri": "https://localhost:8080/"
        },
        "id": "lsAfmjLeYFs5",
        "outputId": "781bd33d-35bc-4205-a709-3da9962b820a"
      },
      "execution_count": 9,
      "outputs": [
        {
          "output_type": "stream",
          "name": "stdout",
          "text": [
            "7 X  1  =  7 \t9 x  1  =  9\n",
            "7 X  2  =  14 \t9 x  2  =  18\n",
            "7 X  3  =  21 \t9 x  3  =  27\n",
            "7 X  4  =  28 \t9 x  4  =  36\n",
            "7 X  5  =  35 \t9 x  5  =  45\n",
            "7 X  6  =  42 \t9 x  6  =  54\n",
            "7 X  7  =  49 \t9 x  7  =  63\n",
            "7 X  8  =  56 \t9 x  8  =  72\n",
            "7 X  9  =  63 \t9 x  9  =  81\n",
            "7 X  10  =  70 \t9 x  10  =  90\n"
          ]
        }
      ]
    },
    {
      "cell_type": "markdown",
      "source": [
        "Assingment 4.2: WAP to print the table of n and n is given by user."
      ],
      "metadata": {
        "id": "EWZilkSWYwmj"
      }
    },
    {
      "cell_type": "code",
      "source": [
        "n=int(input('enter number '))\n",
        "for i in range(1,11):\n",
        "  print(n,' X ',i,' = ',n*i)"
      ],
      "metadata": {
        "colab": {
          "base_uri": "https://localhost:8080/"
        },
        "id": "7dUZxjZ8Y0cV",
        "outputId": "7b5f809c-33b6-472e-ff9e-40e898941082"
      },
      "execution_count": 11,
      "outputs": [
        {
          "output_type": "stream",
          "name": "stdout",
          "text": [
            "enter number 6\n",
            "6  X  1  =  6\n",
            "6  X  2  =  12\n",
            "6  X  3  =  18\n",
            "6  X  4  =  24\n",
            "6  X  5  =  30\n",
            "6  X  6  =  36\n",
            "6  X  7  =  42\n",
            "6  X  8  =  48\n",
            "6  X  9  =  54\n",
            "6  X  10  =  60\n"
          ]
        }
      ]
    },
    {
      "cell_type": "markdown",
      "source": [
        "Assingment 4.3: WAP to add all the numbers from 1 to n and n is given by user"
      ],
      "metadata": {
        "id": "tpD8qHCUZMzE"
      }
    },
    {
      "cell_type": "code",
      "source": [
        "n=int(input('enter number '))\n",
        "print('sum is ',sum(range(1,n+1)))"
      ],
      "metadata": {
        "colab": {
          "base_uri": "https://localhost:8080/"
        },
        "id": "Qi7VJmEsZNlS",
        "outputId": "c633e887-3046-43f4-bfab-1766641a080a"
      },
      "execution_count": 13,
      "outputs": [
        {
          "output_type": "stream",
          "name": "stdout",
          "text": [
            "enter number 10\n",
            "sum is  55\n"
          ]
        }
      ]
    },
    {
      "cell_type": "markdown",
      "source": [
        "Assingment 5.1: WAP to find max amoung three numbers and input from user. [Try max() function]"
      ],
      "metadata": {
        "id": "4fx_nyNkZjzl"
      }
    },
    {
      "cell_type": "code",
      "source": [
        "a=int(input('enter number1 '))\n",
        "b=int(input('enter number2 '))\n",
        "c=int(input('enter number3 '))\n",
        "print('max number is ',max(a,b,c))"
      ],
      "metadata": {
        "colab": {
          "base_uri": "https://localhost:8080/"
        },
        "id": "JxWVRe0Scxy7",
        "outputId": "fc9f6235-0e5e-4e0d-bdfd-ec7eda8e0548"
      },
      "execution_count": 16,
      "outputs": [
        {
          "output_type": "stream",
          "name": "stdout",
          "text": [
            "enter number1 2\n",
            "enter number2 5\n",
            "enter number3 1\n",
            "max number is  5\n"
          ]
        }
      ]
    },
    {
      "cell_type": "markdown",
      "source": [
        "Assingment 5.2: WAP to add all numbers divisible by 7 and 9 from 1 to n and n is given by the user."
      ],
      "metadata": {
        "id": "qqZDBRCTdRB0"
      }
    },
    {
      "cell_type": "code",
      "source": [
        "n=int(input('enter number '))\n",
        "sum=0\n",
        "for i in range(1,n+1):\n",
        "  if i%7==0 and i%9==0:\n",
        "    print(i)\n",
        "    sum=sum+i\n",
        "\n",
        "print('sum is',sum)"
      ],
      "metadata": {
        "colab": {
          "base_uri": "https://localhost:8080/"
        },
        "id": "t_XAMPFxdT0-",
        "outputId": "7a0c8d8a-4a33-47d9-8764-11d0c4924460"
      },
      "execution_count": 23,
      "outputs": [
        {
          "output_type": "stream",
          "name": "stdout",
          "text": [
            "enter number 344\n",
            "63\n",
            "126\n",
            "189\n",
            "252\n",
            "315\n",
            "sum is 945\n"
          ]
        }
      ]
    },
    {
      "cell_type": "markdown",
      "source": [
        "Assingment 5.3: WAP to add all prime numbers from 1 to n and n is given by the user."
      ],
      "metadata": {
        "id": "Lej0KV93jwHK"
      }
    },
    {
      "cell_type": "code",
      "source": [
        "n=int(input('enter number '))\n",
        "sum=0\n",
        "\n",
        "for j in range(2,n+1):\n",
        "  flag=True\n",
        "  for i in range(2,j//2+1):\n",
        "   if j%i==0:\n",
        "    flag=False\n",
        "    break\n",
        "  if flag==True:\n",
        "    print('prime no: ',j)\n",
        "    sum=sum+j\n",
        "print('sum is ',sum)"
      ],
      "metadata": {
        "colab": {
          "base_uri": "https://localhost:8080/"
        },
        "id": "IocYBjLqjzOf",
        "outputId": "2c23e536-42a0-4de0-d146-de4786a166db"
      },
      "execution_count": 33,
      "outputs": [
        {
          "output_type": "stream",
          "name": "stdout",
          "text": [
            "enter number 15\n",
            "prime no:  2\n",
            "prime no:  3\n",
            "prime no:  5\n",
            "prime no:  7\n",
            "prime no:  11\n",
            "prime no:  13\n",
            "sum is  41\n"
          ]
        }
      ]
    },
    {
      "cell_type": "markdown",
      "source": [
        "Assingment 6.1: WAP using function that add all odd numbers from 1 to n, n is given by the user."
      ],
      "metadata": {
        "id": "cZC2lTSBoIeA"
      }
    },
    {
      "cell_type": "code",
      "source": [
        "n=int(input('enter number '))\n",
        "def add_odd(n):\n",
        "  sum=0\n",
        "  for i in range(1,n+1):\n",
        "    if i%2!=0:\n",
        "      sum=sum+i\n",
        "      print('odd no: ',i)\n",
        "  return sum\n",
        "print('sum of odd no is ',add_odd(n))"
      ],
      "metadata": {
        "colab": {
          "base_uri": "https://localhost:8080/"
        },
        "id": "Wd0D8euRoJI3",
        "outputId": "fd73fe1b-7468-405e-81d4-ddaf1ee0de5e"
      },
      "execution_count": 34,
      "outputs": [
        {
          "output_type": "stream",
          "name": "stdout",
          "text": [
            "enter number 8\n",
            "odd no:  1\n",
            "odd no:  3\n",
            "odd no:  5\n",
            "odd no:  7\n",
            "sum of odd no is  16\n"
          ]
        }
      ]
    },
    {
      "cell_type": "markdown",
      "source": [
        "Assingment 6.2: WAP using function that add all prime numbers from 1 to n, n given by the user."
      ],
      "metadata": {
        "id": "-x2C-i9epeJ5"
      }
    },
    {
      "cell_type": "code",
      "source": [
        "n=int(input('enter number '))\n",
        "def add_prime(n):\n",
        "  sum=0\n",
        "  for i in range(1,n+1):\n",
        "    flag=True\n",
        "    for j in range(2,i//2+1):\n",
        "      if i%j==0:\n",
        "        flag=False\n",
        "        break\n",
        "    if flag:\n",
        "        sum=sum+i\n",
        "        print('prime no: ',i)\n",
        "  return sum\n",
        "\n",
        "print('sum is ',add_prime(n))"
      ],
      "metadata": {
        "colab": {
          "base_uri": "https://localhost:8080/"
        },
        "id": "tDX5g6q2pe4Z",
        "outputId": "be40586c-5820-4e07-e30f-595295b8d3f8"
      },
      "execution_count": 35,
      "outputs": [
        {
          "output_type": "stream",
          "name": "stdout",
          "text": [
            "enter number 14\n",
            "prime no:  1\n",
            "prime no:  2\n",
            "prime no:  3\n",
            "prime no:  5\n",
            "prime no:  7\n",
            "prime no:  11\n",
            "prime no:  13\n",
            "sum is  42\n"
          ]
        }
      ]
    }
  ]
}