{
  "nbformat": 4,
  "nbformat_minor": 0,
  "metadata": {
    "colab": {
      "provenance": [],
      "authorship_tag": "ABX9TyN20avjLbNyE124JZJtY+QJ",
      "include_colab_link": true
    },
    "kernelspec": {
      "name": "python3",
      "display_name": "Python 3"
    },
    "language_info": {
      "name": "python"
    }
  },
  "cells": [
    {
      "cell_type": "markdown",
      "metadata": {
        "id": "view-in-github",
        "colab_type": "text"
      },
      "source": [
        "<a href=\"https://colab.research.google.com/github/Saumya0330/Saumya-USC420/blob/main/Cog_Assignment7.ipynb\" target=\"_parent\"><img src=\"https://colab.research.google.com/assets/colab-badge.svg\" alt=\"Open In Colab\"/></a>"
      ]
    },
    {
      "cell_type": "markdown",
      "source": [
        "Cognitive Lab Assignment 7"
      ],
      "metadata": {
        "id": "Qly3ofb4MZxa"
      }
    },
    {
      "cell_type": "markdown",
      "source": [
        "Q1. You are a data analyst at an e-commerce company. Your task is to analyze sales data,\n",
        "clean and process it, perform statistical analysis, and generate visual insights to help the\n",
        "business make informed decisions."
      ],
      "metadata": {
        "id": "0TpeK58cMen1"
      }
    },
    {
      "cell_type": "markdown",
      "source": [
        "1. Use your roll number as the random seed to generate unique data for each student."
      ],
      "metadata": {
        "id": "RheJcNVCMjbG"
      }
    },
    {
      "cell_type": "code",
      "execution_count": 5,
      "metadata": {
        "colab": {
          "base_uri": "https://localhost:8080/"
        },
        "id": "HfwKfL3mMYBV",
        "outputId": "940b8c97-eb4b-4b73-e9ef-2399d4653993"
      },
      "outputs": [
        {
          "output_type": "stream",
          "name": "stdout",
          "text": [
            "3\n",
            "13\n",
            "64\n",
            "44\n",
            "73\n",
            "71\n",
            "10\n",
            "61\n",
            "79\n",
            "52\n"
          ]
        }
      ],
      "source": [
        "import random\n",
        "\n",
        "random.seed(102317028)\n",
        "for i in range(0,10):\n",
        "  print(random.randint(0,100))"
      ]
    },
    {
      "cell_type": "markdown",
      "source": [
        "Part I: Randomized Sales Data Generation (NumPy)\n",
        "1. Initialize Random Seed\n",
        "2. Generate Sales Data\n",
        "3. Create a NumPy array of random sales data for 12 months (shape = (12, 4)),\n",
        "where each column represents a product category:\n",
        "4. Electronics, Clothing, Home & Kitchen, Sports.\n",
        "5. Sales values should be between 1000 and 5000 units per month.\n",
        "6. The range should be randomized using the seed."
      ],
      "metadata": {
        "id": "dhPN6WBUVRKm"
      }
    },
    {
      "cell_type": "code",
      "source": [
        "import numpy as np\n",
        "\n",
        "np.random.seed(0)\n",
        "min_sales=np.random.randint(500,1500)\n",
        "max_sales=np.random.randint(4500,5500)\n",
        "print('randomized range: ',min_sales,' to ', max_sales)\n",
        "sales_data=np.random.randint(min_sales,max_sales+1, size=(12,4))\n",
        "print('sales data:\\n')\n",
        "print(sales_data)"
      ],
      "metadata": {
        "colab": {
          "base_uri": "https://localhost:8080/"
        },
        "id": "JTNtr8QqVYPF",
        "outputId": "cef2dde7-bfc9-47c3-bb9a-f5109f3d183e"
      },
      "execution_count": 13,
      "outputs": [
        {
          "output_type": "stream",
          "name": "stdout",
          "text": [
            "randomized range:  1184  to  5059\n",
            "sales data:\n",
            "\n",
            "[[2837 4448 2019 1947]\n",
            " [2915 4615 2217 4979]\n",
            " [1461 2962 3012 3831]\n",
            " [4326 4728 3832 4652]\n",
            " [3546 1889 4742 3783]\n",
            " [3319 3406 4856 4081]\n",
            " [2885 1721 4077 3304]\n",
            " [4009 3124 3347 2160]\n",
            " [1939 4965 3230 3055]\n",
            " [4687 3680 4082 1283]\n",
            " [3192 4433 1939 1981]\n",
            " [1843 4403 4142 1607]]\n"
          ]
        }
      ]
    },
    {
      "cell_type": "markdown",
      "source": [
        "3. Convert to DataFrame\n",
        " Convert the cleaned NumPy array into a Pandas DataFrame with:\n",
        "i. Columns: Electronics, Clothing, Home & Kitchen, Sports\n",
        "ii. Index: Months from Jan to Dec"
      ],
      "metadata": {
        "id": "BaPmchKTYOm7"
      }
    },
    {
      "cell_type": "code",
      "source": [
        "import pandas as pd\n",
        "\n",
        "categories = [\"Electronics\", \"Clothing\", \"Home & Kitchen\", \"Sports\"]\n",
        "months = [\"Jan\", \"Feb\", \"Mar\", \"Apr\", \"May\", \"Jun\",\n",
        "          \"Jul\", \"Aug\", \"Sep\", \"Oct\", \"Nov\", \"Dec\"]\n",
        "sales_df=pd.DataFrame(sales_data, columns=categories, index=months)\n",
        "print(sales_df)"
      ],
      "metadata": {
        "colab": {
          "base_uri": "https://localhost:8080/"
        },
        "id": "_5AmTpb_YaJJ",
        "outputId": "f531d971-e55f-4631-dc79-eefc7129c6ed"
      },
      "execution_count": 14,
      "outputs": [
        {
          "output_type": "stream",
          "name": "stdout",
          "text": [
            "     Electronics  Clothing  Home & Kitchen  Sports\n",
            "Jan         2837      4448            2019    1947\n",
            "Feb         2915      4615            2217    4979\n",
            "Mar         1461      2962            3012    3831\n",
            "Apr         4326      4728            3832    4652\n",
            "May         3546      1889            4742    3783\n",
            "Jun         3319      3406            4856    4081\n",
            "Jul         2885      1721            4077    3304\n",
            "Aug         4009      3124            3347    2160\n",
            "Sep         1939      4965            3230    3055\n",
            "Oct         4687      3680            4082    1283\n",
            "Nov         3192      4433            1939    1981\n",
            "Dec         1843      4403            4142    1607\n"
          ]
        }
      ]
    },
    {
      "cell_type": "markdown",
      "source": [
        "Part II: Data Manipulation and Analysis (Pandas)"
      ],
      "metadata": {
        "id": "T2Cf0VSHZMsJ"
      }
    },
    {
      "cell_type": "markdown",
      "source": [
        "1. Display the first 5 rows and summary statistics of the DataFrame."
      ],
      "metadata": {
        "id": "BzLMSfHAZYw8"
      }
    },
    {
      "cell_type": "code",
      "source": [
        "print('first 5 rows:\\n')\n",
        "sales_df.head()"
      ],
      "metadata": {
        "colab": {
          "base_uri": "https://localhost:8080/",
          "height": 241
        },
        "id": "n75H5Nf9ZegK",
        "outputId": "8fa303a1-50b5-4ffa-cfad-e24a5a2c458b"
      },
      "execution_count": 19,
      "outputs": [
        {
          "output_type": "stream",
          "name": "stdout",
          "text": [
            "first 5 rows:\n",
            "\n"
          ]
        },
        {
          "output_type": "execute_result",
          "data": {
            "text/plain": [
              "     Electronics  Clothing  Home & Kitchen  Sports\n",
              "Jan         2837      4448            2019    1947\n",
              "Feb         2915      4615            2217    4979\n",
              "Mar         1461      2962            3012    3831\n",
              "Apr         4326      4728            3832    4652\n",
              "May         3546      1889            4742    3783"
            ],
            "text/html": [
              "\n",
              "  <div id=\"df-4abf6414-4092-4bb9-a391-8623ddb7fa09\" class=\"colab-df-container\">\n",
              "    <div>\n",
              "<style scoped>\n",
              "    .dataframe tbody tr th:only-of-type {\n",
              "        vertical-align: middle;\n",
              "    }\n",
              "\n",
              "    .dataframe tbody tr th {\n",
              "        vertical-align: top;\n",
              "    }\n",
              "\n",
              "    .dataframe thead th {\n",
              "        text-align: right;\n",
              "    }\n",
              "</style>\n",
              "<table border=\"1\" class=\"dataframe\">\n",
              "  <thead>\n",
              "    <tr style=\"text-align: right;\">\n",
              "      <th></th>\n",
              "      <th>Electronics</th>\n",
              "      <th>Clothing</th>\n",
              "      <th>Home &amp; Kitchen</th>\n",
              "      <th>Sports</th>\n",
              "    </tr>\n",
              "  </thead>\n",
              "  <tbody>\n",
              "    <tr>\n",
              "      <th>Jan</th>\n",
              "      <td>2837</td>\n",
              "      <td>4448</td>\n",
              "      <td>2019</td>\n",
              "      <td>1947</td>\n",
              "    </tr>\n",
              "    <tr>\n",
              "      <th>Feb</th>\n",
              "      <td>2915</td>\n",
              "      <td>4615</td>\n",
              "      <td>2217</td>\n",
              "      <td>4979</td>\n",
              "    </tr>\n",
              "    <tr>\n",
              "      <th>Mar</th>\n",
              "      <td>1461</td>\n",
              "      <td>2962</td>\n",
              "      <td>3012</td>\n",
              "      <td>3831</td>\n",
              "    </tr>\n",
              "    <tr>\n",
              "      <th>Apr</th>\n",
              "      <td>4326</td>\n",
              "      <td>4728</td>\n",
              "      <td>3832</td>\n",
              "      <td>4652</td>\n",
              "    </tr>\n",
              "    <tr>\n",
              "      <th>May</th>\n",
              "      <td>3546</td>\n",
              "      <td>1889</td>\n",
              "      <td>4742</td>\n",
              "      <td>3783</td>\n",
              "    </tr>\n",
              "  </tbody>\n",
              "</table>\n",
              "</div>\n",
              "    <div class=\"colab-df-buttons\">\n",
              "\n",
              "  <div class=\"colab-df-container\">\n",
              "    <button class=\"colab-df-convert\" onclick=\"convertToInteractive('df-4abf6414-4092-4bb9-a391-8623ddb7fa09')\"\n",
              "            title=\"Convert this dataframe to an interactive table.\"\n",
              "            style=\"display:none;\">\n",
              "\n",
              "  <svg xmlns=\"http://www.w3.org/2000/svg\" height=\"24px\" viewBox=\"0 -960 960 960\">\n",
              "    <path d=\"M120-120v-720h720v720H120Zm60-500h600v-160H180v160Zm220 220h160v-160H400v160Zm0 220h160v-160H400v160ZM180-400h160v-160H180v160Zm440 0h160v-160H620v160ZM180-180h160v-160H180v160Zm440 0h160v-160H620v160Z\"/>\n",
              "  </svg>\n",
              "    </button>\n",
              "\n",
              "  <style>\n",
              "    .colab-df-container {\n",
              "      display:flex;\n",
              "      gap: 12px;\n",
              "    }\n",
              "\n",
              "    .colab-df-convert {\n",
              "      background-color: #E8F0FE;\n",
              "      border: none;\n",
              "      border-radius: 50%;\n",
              "      cursor: pointer;\n",
              "      display: none;\n",
              "      fill: #1967D2;\n",
              "      height: 32px;\n",
              "      padding: 0 0 0 0;\n",
              "      width: 32px;\n",
              "    }\n",
              "\n",
              "    .colab-df-convert:hover {\n",
              "      background-color: #E2EBFA;\n",
              "      box-shadow: 0px 1px 2px rgba(60, 64, 67, 0.3), 0px 1px 3px 1px rgba(60, 64, 67, 0.15);\n",
              "      fill: #174EA6;\n",
              "    }\n",
              "\n",
              "    .colab-df-buttons div {\n",
              "      margin-bottom: 4px;\n",
              "    }\n",
              "\n",
              "    [theme=dark] .colab-df-convert {\n",
              "      background-color: #3B4455;\n",
              "      fill: #D2E3FC;\n",
              "    }\n",
              "\n",
              "    [theme=dark] .colab-df-convert:hover {\n",
              "      background-color: #434B5C;\n",
              "      box-shadow: 0px 1px 3px 1px rgba(0, 0, 0, 0.15);\n",
              "      filter: drop-shadow(0px 1px 2px rgba(0, 0, 0, 0.3));\n",
              "      fill: #FFFFFF;\n",
              "    }\n",
              "  </style>\n",
              "\n",
              "    <script>\n",
              "      const buttonEl =\n",
              "        document.querySelector('#df-4abf6414-4092-4bb9-a391-8623ddb7fa09 button.colab-df-convert');\n",
              "      buttonEl.style.display =\n",
              "        google.colab.kernel.accessAllowed ? 'block' : 'none';\n",
              "\n",
              "      async function convertToInteractive(key) {\n",
              "        const element = document.querySelector('#df-4abf6414-4092-4bb9-a391-8623ddb7fa09');\n",
              "        const dataTable =\n",
              "          await google.colab.kernel.invokeFunction('convertToInteractive',\n",
              "                                                    [key], {});\n",
              "        if (!dataTable) return;\n",
              "\n",
              "        const docLinkHtml = 'Like what you see? Visit the ' +\n",
              "          '<a target=\"_blank\" href=https://colab.research.google.com/notebooks/data_table.ipynb>data table notebook</a>'\n",
              "          + ' to learn more about interactive tables.';\n",
              "        element.innerHTML = '';\n",
              "        dataTable['output_type'] = 'display_data';\n",
              "        await google.colab.output.renderOutput(dataTable, element);\n",
              "        const docLink = document.createElement('div');\n",
              "        docLink.innerHTML = docLinkHtml;\n",
              "        element.appendChild(docLink);\n",
              "      }\n",
              "    </script>\n",
              "  </div>\n",
              "\n",
              "\n",
              "<div id=\"df-27d8fbdc-6e9a-4ca0-b58b-62d428f2f0d6\">\n",
              "  <button class=\"colab-df-quickchart\" onclick=\"quickchart('df-27d8fbdc-6e9a-4ca0-b58b-62d428f2f0d6')\"\n",
              "            title=\"Suggest charts\"\n",
              "            style=\"display:none;\">\n",
              "\n",
              "<svg xmlns=\"http://www.w3.org/2000/svg\" height=\"24px\"viewBox=\"0 0 24 24\"\n",
              "     width=\"24px\">\n",
              "    <g>\n",
              "        <path d=\"M19 3H5c-1.1 0-2 .9-2 2v14c0 1.1.9 2 2 2h14c1.1 0 2-.9 2-2V5c0-1.1-.9-2-2-2zM9 17H7v-7h2v7zm4 0h-2V7h2v10zm4 0h-2v-4h2v4z\"/>\n",
              "    </g>\n",
              "</svg>\n",
              "  </button>\n",
              "\n",
              "<style>\n",
              "  .colab-df-quickchart {\n",
              "      --bg-color: #E8F0FE;\n",
              "      --fill-color: #1967D2;\n",
              "      --hover-bg-color: #E2EBFA;\n",
              "      --hover-fill-color: #174EA6;\n",
              "      --disabled-fill-color: #AAA;\n",
              "      --disabled-bg-color: #DDD;\n",
              "  }\n",
              "\n",
              "  [theme=dark] .colab-df-quickchart {\n",
              "      --bg-color: #3B4455;\n",
              "      --fill-color: #D2E3FC;\n",
              "      --hover-bg-color: #434B5C;\n",
              "      --hover-fill-color: #FFFFFF;\n",
              "      --disabled-bg-color: #3B4455;\n",
              "      --disabled-fill-color: #666;\n",
              "  }\n",
              "\n",
              "  .colab-df-quickchart {\n",
              "    background-color: var(--bg-color);\n",
              "    border: none;\n",
              "    border-radius: 50%;\n",
              "    cursor: pointer;\n",
              "    display: none;\n",
              "    fill: var(--fill-color);\n",
              "    height: 32px;\n",
              "    padding: 0;\n",
              "    width: 32px;\n",
              "  }\n",
              "\n",
              "  .colab-df-quickchart:hover {\n",
              "    background-color: var(--hover-bg-color);\n",
              "    box-shadow: 0 1px 2px rgba(60, 64, 67, 0.3), 0 1px 3px 1px rgba(60, 64, 67, 0.15);\n",
              "    fill: var(--button-hover-fill-color);\n",
              "  }\n",
              "\n",
              "  .colab-df-quickchart-complete:disabled,\n",
              "  .colab-df-quickchart-complete:disabled:hover {\n",
              "    background-color: var(--disabled-bg-color);\n",
              "    fill: var(--disabled-fill-color);\n",
              "    box-shadow: none;\n",
              "  }\n",
              "\n",
              "  .colab-df-spinner {\n",
              "    border: 2px solid var(--fill-color);\n",
              "    border-color: transparent;\n",
              "    border-bottom-color: var(--fill-color);\n",
              "    animation:\n",
              "      spin 1s steps(1) infinite;\n",
              "  }\n",
              "\n",
              "  @keyframes spin {\n",
              "    0% {\n",
              "      border-color: transparent;\n",
              "      border-bottom-color: var(--fill-color);\n",
              "      border-left-color: var(--fill-color);\n",
              "    }\n",
              "    20% {\n",
              "      border-color: transparent;\n",
              "      border-left-color: var(--fill-color);\n",
              "      border-top-color: var(--fill-color);\n",
              "    }\n",
              "    30% {\n",
              "      border-color: transparent;\n",
              "      border-left-color: var(--fill-color);\n",
              "      border-top-color: var(--fill-color);\n",
              "      border-right-color: var(--fill-color);\n",
              "    }\n",
              "    40% {\n",
              "      border-color: transparent;\n",
              "      border-right-color: var(--fill-color);\n",
              "      border-top-color: var(--fill-color);\n",
              "    }\n",
              "    60% {\n",
              "      border-color: transparent;\n",
              "      border-right-color: var(--fill-color);\n",
              "    }\n",
              "    80% {\n",
              "      border-color: transparent;\n",
              "      border-right-color: var(--fill-color);\n",
              "      border-bottom-color: var(--fill-color);\n",
              "    }\n",
              "    90% {\n",
              "      border-color: transparent;\n",
              "      border-bottom-color: var(--fill-color);\n",
              "    }\n",
              "  }\n",
              "</style>\n",
              "\n",
              "  <script>\n",
              "    async function quickchart(key) {\n",
              "      const quickchartButtonEl =\n",
              "        document.querySelector('#' + key + ' button');\n",
              "      quickchartButtonEl.disabled = true;  // To prevent multiple clicks.\n",
              "      quickchartButtonEl.classList.add('colab-df-spinner');\n",
              "      try {\n",
              "        const charts = await google.colab.kernel.invokeFunction(\n",
              "            'suggestCharts', [key], {});\n",
              "      } catch (error) {\n",
              "        console.error('Error during call to suggestCharts:', error);\n",
              "      }\n",
              "      quickchartButtonEl.classList.remove('colab-df-spinner');\n",
              "      quickchartButtonEl.classList.add('colab-df-quickchart-complete');\n",
              "    }\n",
              "    (() => {\n",
              "      let quickchartButtonEl =\n",
              "        document.querySelector('#df-27d8fbdc-6e9a-4ca0-b58b-62d428f2f0d6 button');\n",
              "      quickchartButtonEl.style.display =\n",
              "        google.colab.kernel.accessAllowed ? 'block' : 'none';\n",
              "    })();\n",
              "  </script>\n",
              "</div>\n",
              "\n",
              "    </div>\n",
              "  </div>\n"
            ],
            "application/vnd.google.colaboratory.intrinsic+json": {
              "type": "dataframe",
              "variable_name": "sales_df",
              "summary": "{\n  \"name\": \"sales_df\",\n  \"rows\": 12,\n  \"fields\": [\n    {\n      \"column\": \"Electronics\",\n      \"properties\": {\n        \"dtype\": \"number\",\n        \"std\": 993,\n        \"min\": 1461,\n        \"max\": 4687,\n        \"num_unique_values\": 12,\n        \"samples\": [\n          3192,\n          4687,\n          2837\n        ],\n        \"semantic_type\": \"\",\n        \"description\": \"\"\n      }\n    },\n    {\n      \"column\": \"Clothing\",\n      \"properties\": {\n        \"dtype\": \"number\",\n        \"std\": 1097,\n        \"min\": 1721,\n        \"max\": 4965,\n        \"num_unique_values\": 12,\n        \"samples\": [\n          4433,\n          3680,\n          4448\n        ],\n        \"semantic_type\": \"\",\n        \"description\": \"\"\n      }\n    },\n    {\n      \"column\": \"Home & Kitchen\",\n      \"properties\": {\n        \"dtype\": \"number\",\n        \"std\": 1007,\n        \"min\": 1939,\n        \"max\": 4856,\n        \"num_unique_values\": 12,\n        \"samples\": [\n          1939,\n          4082,\n          2019\n        ],\n        \"semantic_type\": \"\",\n        \"description\": \"\"\n      }\n    },\n    {\n      \"column\": \"Sports\",\n      \"properties\": {\n        \"dtype\": \"number\",\n        \"std\": 1240,\n        \"min\": 1283,\n        \"max\": 4979,\n        \"num_unique_values\": 12,\n        \"samples\": [\n          1981,\n          1283,\n          1947\n        ],\n        \"semantic_type\": \"\",\n        \"description\": \"\"\n      }\n    }\n  ]\n}"
            }
          },
          "metadata": {},
          "execution_count": 19
        }
      ]
    },
    {
      "cell_type": "code",
      "source": [
        "print('summary statistics:\\n')\n",
        "sales_df.describe()"
      ],
      "metadata": {
        "colab": {
          "base_uri": "https://localhost:8080/",
          "height": 335
        },
        "id": "URn4xonNZ-BI",
        "outputId": "49ae6b8d-efe1-4dac-d2ef-1039d1ae4918"
      },
      "execution_count": 20,
      "outputs": [
        {
          "output_type": "stream",
          "name": "stdout",
          "text": [
            "summary statistics:\n",
            "\n"
          ]
        },
        {
          "output_type": "execute_result",
          "data": {
            "text/plain": [
              "       Electronics     Clothing  Home & Kitchen       Sports\n",
              "count    12.000000    12.000000       12.000000    12.000000\n",
              "mean   3079.916667  3697.833333     3457.916667  3055.250000\n",
              "std     993.722886  1097.294096     1007.459131  1240.156671\n",
              "min    1461.000000  1721.000000     1939.000000  1283.000000\n",
              "25%    2612.500000  3083.500000     2813.250000  1972.500000\n",
              "50%    3053.500000  4041.500000     3589.500000  3179.500000\n",
              "75%    3661.750000  4489.750000     4097.000000  3893.500000\n",
              "max    4687.000000  4965.000000     4856.000000  4979.000000"
            ],
            "text/html": [
              "\n",
              "  <div id=\"df-e24b1b4d-eba3-4a69-9edf-f133ab9b23dc\" class=\"colab-df-container\">\n",
              "    <div>\n",
              "<style scoped>\n",
              "    .dataframe tbody tr th:only-of-type {\n",
              "        vertical-align: middle;\n",
              "    }\n",
              "\n",
              "    .dataframe tbody tr th {\n",
              "        vertical-align: top;\n",
              "    }\n",
              "\n",
              "    .dataframe thead th {\n",
              "        text-align: right;\n",
              "    }\n",
              "</style>\n",
              "<table border=\"1\" class=\"dataframe\">\n",
              "  <thead>\n",
              "    <tr style=\"text-align: right;\">\n",
              "      <th></th>\n",
              "      <th>Electronics</th>\n",
              "      <th>Clothing</th>\n",
              "      <th>Home &amp; Kitchen</th>\n",
              "      <th>Sports</th>\n",
              "    </tr>\n",
              "  </thead>\n",
              "  <tbody>\n",
              "    <tr>\n",
              "      <th>count</th>\n",
              "      <td>12.000000</td>\n",
              "      <td>12.000000</td>\n",
              "      <td>12.000000</td>\n",
              "      <td>12.000000</td>\n",
              "    </tr>\n",
              "    <tr>\n",
              "      <th>mean</th>\n",
              "      <td>3079.916667</td>\n",
              "      <td>3697.833333</td>\n",
              "      <td>3457.916667</td>\n",
              "      <td>3055.250000</td>\n",
              "    </tr>\n",
              "    <tr>\n",
              "      <th>std</th>\n",
              "      <td>993.722886</td>\n",
              "      <td>1097.294096</td>\n",
              "      <td>1007.459131</td>\n",
              "      <td>1240.156671</td>\n",
              "    </tr>\n",
              "    <tr>\n",
              "      <th>min</th>\n",
              "      <td>1461.000000</td>\n",
              "      <td>1721.000000</td>\n",
              "      <td>1939.000000</td>\n",
              "      <td>1283.000000</td>\n",
              "    </tr>\n",
              "    <tr>\n",
              "      <th>25%</th>\n",
              "      <td>2612.500000</td>\n",
              "      <td>3083.500000</td>\n",
              "      <td>2813.250000</td>\n",
              "      <td>1972.500000</td>\n",
              "    </tr>\n",
              "    <tr>\n",
              "      <th>50%</th>\n",
              "      <td>3053.500000</td>\n",
              "      <td>4041.500000</td>\n",
              "      <td>3589.500000</td>\n",
              "      <td>3179.500000</td>\n",
              "    </tr>\n",
              "    <tr>\n",
              "      <th>75%</th>\n",
              "      <td>3661.750000</td>\n",
              "      <td>4489.750000</td>\n",
              "      <td>4097.000000</td>\n",
              "      <td>3893.500000</td>\n",
              "    </tr>\n",
              "    <tr>\n",
              "      <th>max</th>\n",
              "      <td>4687.000000</td>\n",
              "      <td>4965.000000</td>\n",
              "      <td>4856.000000</td>\n",
              "      <td>4979.000000</td>\n",
              "    </tr>\n",
              "  </tbody>\n",
              "</table>\n",
              "</div>\n",
              "    <div class=\"colab-df-buttons\">\n",
              "\n",
              "  <div class=\"colab-df-container\">\n",
              "    <button class=\"colab-df-convert\" onclick=\"convertToInteractive('df-e24b1b4d-eba3-4a69-9edf-f133ab9b23dc')\"\n",
              "            title=\"Convert this dataframe to an interactive table.\"\n",
              "            style=\"display:none;\">\n",
              "\n",
              "  <svg xmlns=\"http://www.w3.org/2000/svg\" height=\"24px\" viewBox=\"0 -960 960 960\">\n",
              "    <path d=\"M120-120v-720h720v720H120Zm60-500h600v-160H180v160Zm220 220h160v-160H400v160Zm0 220h160v-160H400v160ZM180-400h160v-160H180v160Zm440 0h160v-160H620v160ZM180-180h160v-160H180v160Zm440 0h160v-160H620v160Z\"/>\n",
              "  </svg>\n",
              "    </button>\n",
              "\n",
              "  <style>\n",
              "    .colab-df-container {\n",
              "      display:flex;\n",
              "      gap: 12px;\n",
              "    }\n",
              "\n",
              "    .colab-df-convert {\n",
              "      background-color: #E8F0FE;\n",
              "      border: none;\n",
              "      border-radius: 50%;\n",
              "      cursor: pointer;\n",
              "      display: none;\n",
              "      fill: #1967D2;\n",
              "      height: 32px;\n",
              "      padding: 0 0 0 0;\n",
              "      width: 32px;\n",
              "    }\n",
              "\n",
              "    .colab-df-convert:hover {\n",
              "      background-color: #E2EBFA;\n",
              "      box-shadow: 0px 1px 2px rgba(60, 64, 67, 0.3), 0px 1px 3px 1px rgba(60, 64, 67, 0.15);\n",
              "      fill: #174EA6;\n",
              "    }\n",
              "\n",
              "    .colab-df-buttons div {\n",
              "      margin-bottom: 4px;\n",
              "    }\n",
              "\n",
              "    [theme=dark] .colab-df-convert {\n",
              "      background-color: #3B4455;\n",
              "      fill: #D2E3FC;\n",
              "    }\n",
              "\n",
              "    [theme=dark] .colab-df-convert:hover {\n",
              "      background-color: #434B5C;\n",
              "      box-shadow: 0px 1px 3px 1px rgba(0, 0, 0, 0.15);\n",
              "      filter: drop-shadow(0px 1px 2px rgba(0, 0, 0, 0.3));\n",
              "      fill: #FFFFFF;\n",
              "    }\n",
              "  </style>\n",
              "\n",
              "    <script>\n",
              "      const buttonEl =\n",
              "        document.querySelector('#df-e24b1b4d-eba3-4a69-9edf-f133ab9b23dc button.colab-df-convert');\n",
              "      buttonEl.style.display =\n",
              "        google.colab.kernel.accessAllowed ? 'block' : 'none';\n",
              "\n",
              "      async function convertToInteractive(key) {\n",
              "        const element = document.querySelector('#df-e24b1b4d-eba3-4a69-9edf-f133ab9b23dc');\n",
              "        const dataTable =\n",
              "          await google.colab.kernel.invokeFunction('convertToInteractive',\n",
              "                                                    [key], {});\n",
              "        if (!dataTable) return;\n",
              "\n",
              "        const docLinkHtml = 'Like what you see? Visit the ' +\n",
              "          '<a target=\"_blank\" href=https://colab.research.google.com/notebooks/data_table.ipynb>data table notebook</a>'\n",
              "          + ' to learn more about interactive tables.';\n",
              "        element.innerHTML = '';\n",
              "        dataTable['output_type'] = 'display_data';\n",
              "        await google.colab.output.renderOutput(dataTable, element);\n",
              "        const docLink = document.createElement('div');\n",
              "        docLink.innerHTML = docLinkHtml;\n",
              "        element.appendChild(docLink);\n",
              "      }\n",
              "    </script>\n",
              "  </div>\n",
              "\n",
              "\n",
              "<div id=\"df-17d5ef19-89b7-47c0-b10f-f194f6579453\">\n",
              "  <button class=\"colab-df-quickchart\" onclick=\"quickchart('df-17d5ef19-89b7-47c0-b10f-f194f6579453')\"\n",
              "            title=\"Suggest charts\"\n",
              "            style=\"display:none;\">\n",
              "\n",
              "<svg xmlns=\"http://www.w3.org/2000/svg\" height=\"24px\"viewBox=\"0 0 24 24\"\n",
              "     width=\"24px\">\n",
              "    <g>\n",
              "        <path d=\"M19 3H5c-1.1 0-2 .9-2 2v14c0 1.1.9 2 2 2h14c1.1 0 2-.9 2-2V5c0-1.1-.9-2-2-2zM9 17H7v-7h2v7zm4 0h-2V7h2v10zm4 0h-2v-4h2v4z\"/>\n",
              "    </g>\n",
              "</svg>\n",
              "  </button>\n",
              "\n",
              "<style>\n",
              "  .colab-df-quickchart {\n",
              "      --bg-color: #E8F0FE;\n",
              "      --fill-color: #1967D2;\n",
              "      --hover-bg-color: #E2EBFA;\n",
              "      --hover-fill-color: #174EA6;\n",
              "      --disabled-fill-color: #AAA;\n",
              "      --disabled-bg-color: #DDD;\n",
              "  }\n",
              "\n",
              "  [theme=dark] .colab-df-quickchart {\n",
              "      --bg-color: #3B4455;\n",
              "      --fill-color: #D2E3FC;\n",
              "      --hover-bg-color: #434B5C;\n",
              "      --hover-fill-color: #FFFFFF;\n",
              "      --disabled-bg-color: #3B4455;\n",
              "      --disabled-fill-color: #666;\n",
              "  }\n",
              "\n",
              "  .colab-df-quickchart {\n",
              "    background-color: var(--bg-color);\n",
              "    border: none;\n",
              "    border-radius: 50%;\n",
              "    cursor: pointer;\n",
              "    display: none;\n",
              "    fill: var(--fill-color);\n",
              "    height: 32px;\n",
              "    padding: 0;\n",
              "    width: 32px;\n",
              "  }\n",
              "\n",
              "  .colab-df-quickchart:hover {\n",
              "    background-color: var(--hover-bg-color);\n",
              "    box-shadow: 0 1px 2px rgba(60, 64, 67, 0.3), 0 1px 3px 1px rgba(60, 64, 67, 0.15);\n",
              "    fill: var(--button-hover-fill-color);\n",
              "  }\n",
              "\n",
              "  .colab-df-quickchart-complete:disabled,\n",
              "  .colab-df-quickchart-complete:disabled:hover {\n",
              "    background-color: var(--disabled-bg-color);\n",
              "    fill: var(--disabled-fill-color);\n",
              "    box-shadow: none;\n",
              "  }\n",
              "\n",
              "  .colab-df-spinner {\n",
              "    border: 2px solid var(--fill-color);\n",
              "    border-color: transparent;\n",
              "    border-bottom-color: var(--fill-color);\n",
              "    animation:\n",
              "      spin 1s steps(1) infinite;\n",
              "  }\n",
              "\n",
              "  @keyframes spin {\n",
              "    0% {\n",
              "      border-color: transparent;\n",
              "      border-bottom-color: var(--fill-color);\n",
              "      border-left-color: var(--fill-color);\n",
              "    }\n",
              "    20% {\n",
              "      border-color: transparent;\n",
              "      border-left-color: var(--fill-color);\n",
              "      border-top-color: var(--fill-color);\n",
              "    }\n",
              "    30% {\n",
              "      border-color: transparent;\n",
              "      border-left-color: var(--fill-color);\n",
              "      border-top-color: var(--fill-color);\n",
              "      border-right-color: var(--fill-color);\n",
              "    }\n",
              "    40% {\n",
              "      border-color: transparent;\n",
              "      border-right-color: var(--fill-color);\n",
              "      border-top-color: var(--fill-color);\n",
              "    }\n",
              "    60% {\n",
              "      border-color: transparent;\n",
              "      border-right-color: var(--fill-color);\n",
              "    }\n",
              "    80% {\n",
              "      border-color: transparent;\n",
              "      border-right-color: var(--fill-color);\n",
              "      border-bottom-color: var(--fill-color);\n",
              "    }\n",
              "    90% {\n",
              "      border-color: transparent;\n",
              "      border-bottom-color: var(--fill-color);\n",
              "    }\n",
              "  }\n",
              "</style>\n",
              "\n",
              "  <script>\n",
              "    async function quickchart(key) {\n",
              "      const quickchartButtonEl =\n",
              "        document.querySelector('#' + key + ' button');\n",
              "      quickchartButtonEl.disabled = true;  // To prevent multiple clicks.\n",
              "      quickchartButtonEl.classList.add('colab-df-spinner');\n",
              "      try {\n",
              "        const charts = await google.colab.kernel.invokeFunction(\n",
              "            'suggestCharts', [key], {});\n",
              "      } catch (error) {\n",
              "        console.error('Error during call to suggestCharts:', error);\n",
              "      }\n",
              "      quickchartButtonEl.classList.remove('colab-df-spinner');\n",
              "      quickchartButtonEl.classList.add('colab-df-quickchart-complete');\n",
              "    }\n",
              "    (() => {\n",
              "      let quickchartButtonEl =\n",
              "        document.querySelector('#df-17d5ef19-89b7-47c0-b10f-f194f6579453 button');\n",
              "      quickchartButtonEl.style.display =\n",
              "        google.colab.kernel.accessAllowed ? 'block' : 'none';\n",
              "    })();\n",
              "  </script>\n",
              "</div>\n",
              "\n",
              "    </div>\n",
              "  </div>\n"
            ],
            "application/vnd.google.colaboratory.intrinsic+json": {
              "type": "dataframe",
              "summary": "{\n  \"name\": \"sales_df\",\n  \"rows\": 8,\n  \"fields\": [\n    {\n      \"column\": \"Electronics\",\n      \"properties\": {\n        \"dtype\": \"number\",\n        \"std\": 1526.0800510857905,\n        \"min\": 12.0,\n        \"max\": 4687.0,\n        \"num_unique_values\": 8,\n        \"samples\": [\n          3079.9166666666665,\n          3053.5,\n          12.0\n        ],\n        \"semantic_type\": \"\",\n        \"description\": \"\"\n      }\n    },\n    {\n      \"column\": \"Clothing\",\n      \"properties\": {\n        \"dtype\": \"number\",\n        \"std\": 1762.4672375977025,\n        \"min\": 12.0,\n        \"max\": 4965.0,\n        \"num_unique_values\": 8,\n        \"samples\": [\n          3697.8333333333335,\n          4041.5,\n          12.0\n        ],\n        \"semantic_type\": \"\",\n        \"description\": \"\"\n      }\n    },\n    {\n      \"column\": \"Home & Kitchen\",\n      \"properties\": {\n        \"dtype\": \"number\",\n        \"std\": 1631.9959150234063,\n        \"min\": 12.0,\n        \"max\": 4856.0,\n        \"num_unique_values\": 8,\n        \"samples\": [\n          3457.9166666666665,\n          3589.5,\n          12.0\n        ],\n        \"semantic_type\": \"\",\n        \"description\": \"\"\n      }\n    },\n    {\n      \"column\": \"Sports\",\n      \"properties\": {\n        \"dtype\": \"number\",\n        \"std\": 1620.2056050106094,\n        \"min\": 12.0,\n        \"max\": 4979.0,\n        \"num_unique_values\": 8,\n        \"samples\": [\n          3055.25,\n          3179.5,\n          12.0\n        ],\n        \"semantic_type\": \"\",\n        \"description\": \"\"\n      }\n    }\n  ]\n}"
            }
          },
          "metadata": {},
          "execution_count": 20
        }
      ]
    },
    {
      "cell_type": "markdown",
      "source": [
        "2. Calculate the total sales per category and total sales per month."
      ],
      "metadata": {
        "id": "SiHT1xEuaE78"
      }
    },
    {
      "cell_type": "code",
      "source": [
        "category_totals=sales_df.sum(axis=0)\n",
        "print('total sales per category:')\n",
        "print(category_totals,'\\n')\n",
        "\n",
        "monthly_totals=sales_df.sum(axis=1)\n",
        "print('total sales per month:')\n",
        "print(monthly_totals)"
      ],
      "metadata": {
        "colab": {
          "base_uri": "https://localhost:8080/"
        },
        "id": "kqD-gxfbaHbL",
        "outputId": "a22b619a-7110-4c10-8b32-e9beefcd3742"
      },
      "execution_count": 22,
      "outputs": [
        {
          "output_type": "stream",
          "name": "stdout",
          "text": [
            "total sales per category:\n",
            "Electronics       36959\n",
            "Clothing          44374\n",
            "Home & Kitchen    41495\n",
            "Sports            36663\n",
            "dtype: int64 \n",
            "\n",
            "total sales per month:\n",
            "Jan    11251\n",
            "Feb    14726\n",
            "Mar    11266\n",
            "Apr    17538\n",
            "May    13960\n",
            "Jun    15662\n",
            "Jul    11987\n",
            "Aug    12640\n",
            "Sep    13189\n",
            "Oct    13732\n",
            "Nov    11545\n",
            "Dec    11995\n",
            "dtype: int64\n"
          ]
        }
      ]
    },
    {
      "cell_type": "markdown",
      "source": [
        "3. Calculate the average sales growth between consecutive months for each category."
      ],
      "metadata": {
        "id": "_dLEtsvwassw"
      }
    },
    {
      "cell_type": "code",
      "source": [
        "monthly_growth= sales_df.pct_change().dropna()*100\n",
        "print('monthly growth for each category: \\n')\n",
        "print(monthly_growth)\n",
        "avg_growth=monthly_growth.mean()\n",
        "print('\\naverage sales growth between consecutive months for each category:\\n')\n",
        "print(avg_growth)"
      ],
      "metadata": {
        "colab": {
          "base_uri": "https://localhost:8080/"
        },
        "id": "CqzKdFSebb0v",
        "outputId": "941c5639-7f67-4680-db24-55842c2a60f7"
      },
      "execution_count": 26,
      "outputs": [
        {
          "output_type": "stream",
          "name": "stdout",
          "text": [
            "monthly growth for each category: \n",
            "\n",
            "     Electronics   Clothing  Home & Kitchen      Sports\n",
            "Feb     2.749383   3.754496        9.806835  155.726759\n",
            "Mar   -49.879931 -35.817985       35.859269  -23.056839\n",
            "Apr   196.098563  59.621877       27.224436   21.430436\n",
            "May   -18.030513 -60.046531       23.747390  -18.680138\n",
            "Jun    -6.401579  80.307041        2.404049    7.877346\n",
            "Jul   -13.076228 -49.471521      -16.042010  -19.039451\n",
            "Aug    38.960139  81.522371      -17.905323  -34.624697\n",
            "Sep   -51.633824  58.930858       -3.495668   41.435185\n",
            "Oct   141.722537 -25.881168       26.377709  -58.003273\n",
            "Nov   -31.896736  20.461957      -52.498775   54.403741\n",
            "Dec   -42.261905  -0.676743      113.615266  -18.879354\n",
            "\n",
            "average sales growth between consecutive months for each category:\n",
            "\n",
            "Electronics       15.122719\n",
            "Clothing          12.064059\n",
            "Home & Kitchen    13.553925\n",
            "Sports             9.871792\n",
            "dtype: float64\n"
          ]
        }
      ]
    },
    {
      "cell_type": "markdown",
      "source": [
        "4. Add the following columns to the DataFrame:\n",
        " Total Sales: Sum of all categories per month.\n",
        " Growth Rate: Percentage change in Total Sales from the previous month."
      ],
      "metadata": {
        "id": "NPQldptvc_hs"
      }
    },
    {
      "cell_type": "code",
      "source": [
        "sales_df['Total Sales']= sales_df.sum(axis=1)\n",
        "sales_df['Growth Rate']= sales_df['Total Sales'].pct_change().fillna(0)*100\n",
        "print(sales_df.round(2))"
      ],
      "metadata": {
        "colab": {
          "base_uri": "https://localhost:8080/"
        },
        "id": "h8LtrWfrdGiL",
        "outputId": "c000cd74-962e-4446-f8bd-c916f2fd9cff"
      },
      "execution_count": 31,
      "outputs": [
        {
          "output_type": "stream",
          "name": "stdout",
          "text": [
            "     Electronics  Clothing  Home & Kitchen  Sports  Total Sales  Growth Rate\n",
            "Jan         2837      4448            2019    1947     56255.00         0.00\n",
            "Feb         2915      4615            2217    4979     73691.84        31.00\n",
            "Mar         1461      2962            3012    3831     56282.93       -23.62\n",
            "Apr         4326      4728            3832    4652     87801.55        56.00\n",
            "May         3546      1889            4742    3783     69759.10       -20.55\n",
            "Jun         3319      3406            4856    4081     78334.45        12.29\n",
            "Jul         2885      1721            4077    3304     59888.02       -23.55\n",
            "Aug         4009      3124            3347    2160     63210.96         5.55\n",
            "Sep         1939      4965            3230    3055     65953.68         4.34\n",
            "Oct         4687      3680            4082    1283     68668.23         4.12\n",
            "Nov         3192      4433            1939    1981     57693.11       -15.98\n",
            "Dec         1843      4403            4142    1607     59982.84         3.97\n"
          ]
        }
      ]
    },
    {
      "cell_type": "markdown",
      "source": [
        "5. Apply a randomized discount:\n",
        "If your roll number is even, apply a 10% discount to the Electronics category.\n",
        "If odd, apply a 15% discount to the Clothing category."
      ],
      "metadata": {
        "id": "yU-yJTIaeTxr"
      }
    },
    {
      "cell_type": "code",
      "source": [
        "#Roll no= 102317028 (even)\n",
        "sales_df['Electronics']*=0.9  #10% discount\n",
        "sales_df['Total Sales']=sales_df.sum(axis=1)\n",
        "sales_df['Growth Rate']= sales_df['Total Sales'].pct_change().fillna(0)*100\n",
        "print('sales data after applied discount:\\n')\n",
        "print(sales_df.round(2))"
      ],
      "metadata": {
        "colab": {
          "base_uri": "https://localhost:8080/"
        },
        "id": "_OGfnW2oeaiE",
        "outputId": "e6555dfd-38d3-4637-f08d-e2cc93093cce"
      },
      "execution_count": 35,
      "outputs": [
        {
          "output_type": "stream",
          "name": "stdout",
          "text": [
            "sales data after applied discount:\n",
            "\n",
            "     Electronics  Clothing  Home & Kitchen  Sports  Total Sales  Growth Rate\n",
            "Jan      1861.36      4448            2019    1947     98691.80         0.00\n",
            "Feb      1912.53      4615            2217    4979    130082.61        31.57\n",
            "Mar       958.56      2962            3012    3831     99930.67       -23.33\n",
            "Apr      2838.29      4728            3832    4652    154261.85        54.90\n",
            "May      2326.53      1889            4742    3783    122308.00       -20.68\n",
            "Jun      2177.60      3406            4856    4081    138028.65        12.69\n",
            "Jul      1892.85      1721            4077    3304    105130.98       -23.75\n",
            "Aug      2630.30      3124            3347    2160    110164.89         5.03\n",
            "Sep      1272.18      4965            3230    3055    116973.71         5.61\n",
            "Oct      3075.14      3680            4082    1283    119370.00         2.68\n",
            "Nov      2094.27      4433            1939    1981    100921.10       -15.63\n",
            "Dec      1209.19      4403            4142    1607    106311.94         4.92\n"
          ]
        }
      ]
    },
    {
      "cell_type": "markdown",
      "source": [
        "Part III: Visualizations (Matplotlib and Seaborn)"
      ],
      "metadata": {
        "id": "DEbyGoNAfbbX"
      }
    },
    {
      "cell_type": "markdown",
      "source": [
        "1. Plot monthly sales trends for each category using line plots."
      ],
      "metadata": {
        "id": "2nW2tKYnfhsh"
      }
    },
    {
      "cell_type": "code",
      "source": [
        "import matplotlib.pyplot as plt\n",
        "\n",
        "for category in categories:\n",
        "  plt.plot(months, sales_df[category], label=category)\n",
        "plt.legend(title=\"Category\", loc=\"upper right\")\n",
        "plt.show()"
      ],
      "metadata": {
        "colab": {
          "base_uri": "https://localhost:8080/",
          "height": 430
        },
        "id": "trPdf6IpffEi",
        "outputId": "b3193aea-4119-4ee6-cc4d-432a3c62b5a9"
      },
      "execution_count": 40,
      "outputs": [
        {
          "output_type": "display_data",
          "data": {
            "text/plain": [
              "<Figure size 640x480 with 1 Axes>"
            ],
            "image/png": "[encoded data removed]"
          },
          "metadata": {}
        }
      ]
    },
    {
      "cell_type": "markdown",
      "source": [
        "2. Create the following plots:\n",
        "Box plots to show the sales distribution for each category."
      ],
      "metadata": {
        "id": "ML2QUQ_6fivq"
      }
    },
    {
      "cell_type": "code",
      "source": [
        "for category in categories:\n",
        "  sales_df.boxplot(column=category)\n",
        "  plt.show()"
      ],
      "metadata": {
        "colab": {
          "base_uri": "https://localhost:8080/",
          "height": 1000
        },
        "id": "4Ze0jCAPhJ8d",
        "outputId": "b83af36b-7c07-440d-b135-4134a1d13350"
      },
      "execution_count": 47,
      "outputs": [
        {
          "output_type": "display_data",
          "data": {
            "text/plain": [
              "<Figure size 640x480 with 1 Axes>"
            ],
            "image/png": "[encoded data removed]"
          },
          "metadata": {}
        },
        {
          "output_type": "display_data",
          "data": {
            "text/plain": [
              "<Figure size 640x480 with 1 Axes>"
            ],
            "image/png": "[encoded data removed]"
          },
          "metadata": {}
        },
        {
          "output_type": "display_data",
          "data": {
            "text/plain": [
              "<Figure size 640x480 with 1 Axes>"
            ],
            "image/png": "[encoded data removed]"
          },
          "metadata": {}
        },
        {
          "output_type": "display_data",
          "data": {
            "text/plain": [
              "<Figure size 640x480 with 1 Axes>"
            ],
            "image/png": "[encoded data removed]"
          },
          "metadata": {}
        }
      ]
    },
    {
      "cell_type": "markdown",
      "source": [
        "Q.2 For the array: array = np.array([[1, -2, 3],[-4, 5, -6]])\n",
        "i. Find element-wise absolute value\n",
        "ii. Find the 25th, 50th, and 75th percentile of flattened array, for each column, for each\n",
        "row.\n",
        "iii. Mean, Median and Standard Deviation of flattened array, of each column, and\n",
        "each row"
      ],
      "metadata": {
        "id": "of_xUqx2iA7S"
      }
    },
    {
      "cell_type": "code",
      "source": [
        "import numpy as np\n",
        "\n",
        "arr= np.array([[1,-2,3],[-4,5,-6]])\n",
        "abs_arr=abs(arr)\n",
        "print('i. element wise absolute values are:')\n",
        "print(abs_arr)\n",
        "\n",
        "percentile_flattened= np.percentile(arr, [20,50,75])\n",
        "print(\"\\nii. Percentiles of flattened array (25th, 50th, 75th):\", percentile_flattened)\n",
        "percentile_column= np.percentile(arr, [20,50,75], axis=0)\n",
        "print(\"\\nPercentiles for each column:\\n\", percentile_column)\n",
        "percentile_row= np.percentile(arr, [20,50,75], axis=1)\n",
        "print(\"\\nPercentiles for each row:\\n\", percentile_row)\n",
        "\n",
        "mean_flattened = np.mean(arr)\n",
        "median_flattened = np.median(arr)\n",
        "std_flattened = np.std(arr)\n",
        "print(\"\\niii. Flattened array stats - Mean:\", mean_flattened, \", Median:\", median_flattened, \", Std Dev:\", std_flattened)\n",
        "mean_columns = np.mean(arr, axis=0)\n",
        "median_columns = np.median(arr, axis=0)\n",
        "std_columns = np.std(arr, axis=0)\n",
        "print(\"\\nColumn-wise stats:\")\n",
        "print(\"Mean:\", mean_columns)\n",
        "print(\"Median:\", median_columns)\n",
        "print(\"Std Dev:\", std_columns)\n",
        "mean_rows = np.mean(arr, axis=1)\n",
        "median_rows = np.median(arr, axis=1)\n",
        "std_rows = np.std(arr, axis=1)\n",
        "print(\"\\nRow-wise stats:\")\n",
        "print(\"Mean:\", mean_rows)\n",
        "print(\"Median:\", median_rows)\n",
        "print(\"Std Dev:\", std_rows)"
      ],
      "metadata": {
        "colab": {
          "base_uri": "https://localhost:8080/"
        },
        "id": "bJtQuAxh5EyV",
        "outputId": "125547f4-79b5-433a-e720-d225f1e40ec8"
      },
      "execution_count": 10,
      "outputs": [
        {
          "output_type": "stream",
          "name": "stdout",
          "text": [
            "i. element wise absolute values are:\n",
            "[[1 2 3]\n",
            " [4 5 6]]\n",
            "\n",
            "ii. Percentiles of flattened array (25th, 50th, 75th): [-4.  -0.5  2.5]\n",
            "\n",
            "Percentiles for each column:\n",
            " [[-3.   -0.6  -4.2 ]\n",
            " [-1.5   1.5  -1.5 ]\n",
            " [-0.25  3.25  0.75]]\n",
            "\n",
            "Percentiles for each row:\n",
            " [[-0.8 -5.2]\n",
            " [ 1.  -4. ]\n",
            " [ 2.   0.5]]\n",
            "\n",
            "iii. Flattened array stats - Mean: -0.5 , Median: -0.5 , Std Dev: 3.8622100754188224\n",
            "\n",
            "Column-wise stats:\n",
            "Mean: [-1.5  1.5 -1.5]\n",
            "Median: [-1.5  1.5 -1.5]\n",
            "Std Dev: [2.5 3.5 4.5]\n",
            "\n",
            "Row-wise stats:\n",
            "Mean: [ 0.66666667 -1.66666667]\n",
            "Median: [ 1. -4.]\n",
            "Std Dev: [2.05480467 4.78423336]\n"
          ]
        }
      ]
    },
    {
      "cell_type": "markdown",
      "source": [
        "Q.3 For the array: a = np.array([-1.8, -1.6, -0.5, 0.5,1.6, 1.8, 3.0]).\n",
        "i. Find floor, ceiling and truncated value, rounded values"
      ],
      "metadata": {
        "id": "O28Nnv6X9TJR"
      }
    },
    {
      "cell_type": "code",
      "source": [
        "a = np.array([-1.8, -1.6, -0.5, 0.5, 1.6, 1.8, 3.0])\n",
        "\n",
        "floor_values = np.floor(a)\n",
        "print(\"Floor values:\", floor_values)\n",
        "\n",
        "ceiling_values = np.ceil(a)\n",
        "print(\"Ceiling values:\", ceiling_values)\n",
        "\n",
        "truncated_values = np.trunc(a)\n",
        "print(\"Truncated values:\", truncated_values)\n",
        "\n",
        "rounded_values = np.round(a)\n",
        "print(\"Rounded values:\", rounded_values)"
      ],
      "metadata": {
        "colab": {
          "base_uri": "https://localhost:8080/"
        },
        "id": "8cS9n3XQ-SD_",
        "outputId": "7aab6dd6-a254-4753-8e33-888925b66d3e"
      },
      "execution_count": 13,
      "outputs": [
        {
          "output_type": "stream",
          "name": "stdout",
          "text": [
            "Floor values: [-2. -2. -1.  0.  1.  1.  3.]\n",
            "Ceiling values: [-1. -1. -0.  1.  2.  2.  3.]\n",
            "Truncated values: [-1. -1. -0.  0.  1.  1.  3.]\n",
            "Rounded values: [-2. -2. -0.  0.  2.  2.  3.]\n"
          ]
        }
      ]
    },
    {
      "cell_type": "markdown",
      "source": [
        "Q.4 WAP to swap two elements in a list in Python Using a Temporary Variable."
      ],
      "metadata": {
        "id": "rZtZF19Q_1nE"
      }
    },
    {
      "cell_type": "code",
      "source": [
        "my_list = [10, 20, 30, 40, 50]\n",
        "index1, index2 = 1, 3\n",
        "temp = my_list[index1]\n",
        "my_list[index1] = my_list[index2]\n",
        "my_list[index2] = temp\n",
        "print(\"List after swapping:\", my_list)\n"
      ],
      "metadata": {
        "colab": {
          "base_uri": "https://localhost:8080/"
        },
        "id": "AViYZTzp__ec",
        "outputId": "5e548db2-d432-4b19-9b6d-cb9aa3a27346"
      },
      "execution_count": 16,
      "outputs": [
        {
          "output_type": "stream",
          "name": "stdout",
          "text": [
            "List after swapping: [10, 40, 30, 20, 50]\n"
          ]
        }
      ]
    },
    {
      "cell_type": "markdown",
      "source": [
        "Q.5 Write a Python program to swap two elements in a set by converting it to a list first."
      ],
      "metadata": {
        "id": "IXZcA9P4_7cR"
      }
    },
    {
      "cell_type": "code",
      "source": [
        "my_set = {10, 20, 30, 40, 50}\n",
        "\n",
        "elem1, elem2 = 20, 50\n",
        "\n",
        "my_list = list(my_set)\n",
        "\n",
        "if elem1 in my_list and elem2 in my_list:\n",
        "    index1, index2 = my_list.index(elem1), my_list.index(elem2)\n",
        "    my_list[index1], my_list[index2] = my_list[index2], my_list[index1]\n",
        "\n",
        "    swapped_set = set(my_list)\n",
        "\n",
        "    print(\"Set after swapping:\", swapped_set)\n",
        "else:\n",
        "    print(\"One or both elements not found in the set.\")"
      ],
      "metadata": {
        "colab": {
          "base_uri": "https://localhost:8080/"
        },
        "id": "8-TEipbSBJa4",
        "outputId": "31019189-844e-48c4-b4b7-a211444ca823"
      },
      "execution_count": 18,
      "outputs": [
        {
          "output_type": "stream",
          "name": "stdout",
          "text": [
            "Set after swapping: {40, 10, 50, 20, 30}\n"
          ]
        }
      ]
    }
  ]
}