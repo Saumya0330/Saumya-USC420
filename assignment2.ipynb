{
  "nbformat": 4,
  "nbformat_minor": 0,
  "metadata": {
    "colab": {
      "provenance": [],
      "authorship_tag": "ABX9TyMb7U5VxgbBGr9yUnprGGHP",
      "include_colab_link": true
    },
    "kernelspec": {
      "name": "python3",
      "display_name": "Python 3"
    },
    "language_info": {
      "name": "python"
    }
  },
  "cells": [
    {
      "cell_type": "markdown",
      "metadata": {
        "id": "view-in-github",
        "colab_type": "text"
      },
      "source": [
        "<a href=\"https://colab.research.google.com/github/Saumya0330/Saumya-USC420/blob/main/assignment2.ipynb\" target=\"_parent\"><img src=\"https://colab.research.google.com/assets/colab-badge.svg\" alt=\"Open In Colab\"/></a>"
      ]
    },
    {
      "cell_type": "markdown",
      "source": [
        "1. Create a List L that is defined as= [10, 20, 30, 40, 50, 60, 70, 80].\n",
        "i. WAP to add 200 and 300 to L.\n",
        "ii. WAP to remove 10 and 30 from L.\n",
        "iii. WAP to sort L in ascending order.\n",
        "iv. WAP to sort L in descending order."
      ],
      "metadata": {
        "id": "UhEFkUnAXiOB"
      }
    },
    {
      "cell_type": "code",
      "source": [
        "L=[10, 20, 30, 40, 50, 60, 70, 80]\n",
        "L.extend([200,300])\n",
        "print(L)\n",
        "L.remove(10)\n",
        "L.remove(30)\n",
        "print(L)\n",
        "L.sort()\n",
        "print(L)\n",
        "L.sort(reverse=True)\n",
        "print(L)"
      ],
      "metadata": {
        "colab": {
          "base_uri": "https://localhost:8080/"
        },
        "id": "jZpjQxDZXlnJ",
        "outputId": "b9b6a87a-3c7e-4d9f-97d5-1ca40bc0f06e"
      },
      "execution_count": null,
      "outputs": [
        {
          "output_type": "stream",
          "name": "stdout",
          "text": [
            "[10, 20, 30, 40, 50, 60, 70, 80, 200, 300]\n",
            "[20, 40, 50, 60, 70, 80, 200, 300]\n",
            "[20, 40, 50, 60, 70, 80, 200, 300]\n",
            "[300, 200, 80, 70, 60, 50, 40, 20]\n"
          ]
        }
      ]
    },
    {
      "cell_type": "markdown",
      "source": [
        "2. Create a tuple of marks scored as scores = (45, 89.5, 76, 45.4, 89, 92, 58, 45) and\n",
        "perform the following operations using tuple functions:\n",
        "i. Identify the highest score and its index in the tuple.\n",
        "ii. Find the lowest score and count how many times it appears.\n",
        "iii. Reverse the tuple and return it as a list.\n",
        "iv. Check if a specific score ‘76’ (input by the user) is present in the tuple and\n",
        "print its first occurrence index, or a message saying it’s not present."
      ],
      "metadata": {
        "id": "NWYF2HnyZkmP"
      }
    },
    {
      "cell_type": "code",
      "source": [
        "scores=(45,89.5,76,45.4,89,92,58,45)\n",
        "print('highest score',max(scores))\n",
        "print('index',scores.index(max(scores)))\n",
        "print('lowest score',min(scores))\n",
        "print('frequency of min score',scores.count(min(scores)))\n",
        "rev_scores=list(reversed(scores))\n",
        "print(rev_scores)\n",
        "res=76 in scores\n",
        "print('is 76 present?',res)\n",
        "if res:\n",
        "  print('index',scores.index(76))"
      ],
      "metadata": {
        "colab": {
          "base_uri": "https://localhost:8080/"
        },
        "id": "wqUM-v08Zn1X",
        "outputId": "069d0b65-2d4c-42a0-9354-cfc193683caf"
      },
      "execution_count": null,
      "outputs": [
        {
          "output_type": "stream",
          "name": "stdout",
          "text": [
            "highest score 92\n",
            "index 5\n",
            "lowest score 45\n",
            "frequency of min score 2\n",
            "[45, 58, 92, 89, 45.4, 76, 89.5, 45]\n",
            "is 76 present? True\n",
            "index 2\n"
          ]
        }
      ]
    },
    {
      "cell_type": "markdown",
      "source": [
        "3. WAP to create a list of 100 random numbers between 100 and 900. Count and print\n",
        "the:\n",
        "i. All odd numbers\n",
        "ii. All even numbers\n",
        "iii. All prime numbers"
      ],
      "metadata": {
        "id": "bp_YQAwKLmXP"
      }
    },
    {
      "cell_type": "code",
      "source": [
        "import random\n",
        "L=list(random.sample(range(100,901),100))\n",
        "print(L)\n",
        "len(L)\n",
        "count_odd=count_even=count_prime=0\n",
        "for i in L:\n",
        "  is_prime=True\n",
        "  if i%2==0:\n",
        "    print('even no:',i)\n",
        "    count_even+=1\n",
        "  else:\n",
        "    print('odd no:',i)\n",
        "    count_odd+=1\n",
        "  for j in range(2,i//2+1):\n",
        "    if i%j==0:\n",
        "      is_prime=False\n",
        "      break\n",
        "  if is_prime:\n",
        "   print('prime no:',i)\n",
        "   count_prime+=1\n",
        "\n",
        "print('total odd',count_odd)\n",
        "print('total even',count_even)\n",
        "print('total prime',count_prime)"
      ],
      "metadata": {
        "colab": {
          "base_uri": "https://localhost:8080/"
        },
        "id": "XSLuTUiXcTpM",
        "outputId": "812bad09-0a42-42b7-b1e3-5c9e6d2d987b"
      },
      "execution_count": null,
      "outputs": [
        {
          "output_type": "stream",
          "name": "stdout",
          "text": [
            "[300, 210, 468, 180, 783, 395, 781, 319, 488, 266, 244, 166, 483, 516, 207, 683, 375, 436, 407, 609, 299, 173, 510, 190, 843, 861, 263, 811, 536, 658, 482, 533, 206, 152, 740, 237, 854, 481, 743, 322, 196, 318, 326, 102, 662, 264, 448, 245, 886, 645, 608, 790, 803, 654, 739, 462, 841, 365, 672, 716, 446, 226, 107, 475, 737, 894, 142, 706, 127, 472, 544, 745, 514, 141, 814, 205, 887, 377, 441, 884, 290, 311, 559, 393, 611, 278, 695, 863, 849, 363, 144, 131, 663, 171, 634, 610, 378, 641, 250, 673]\n",
            "even no: 300\n",
            "even no: 210\n",
            "even no: 468\n",
            "even no: 180\n",
            "odd no: 783\n",
            "odd no: 395\n",
            "odd no: 781\n",
            "odd no: 319\n",
            "even no: 488\n",
            "even no: 266\n",
            "even no: 244\n",
            "even no: 166\n",
            "odd no: 483\n",
            "even no: 516\n",
            "odd no: 207\n",
            "odd no: 683\n",
            "prime no: 683\n",
            "odd no: 375\n",
            "even no: 436\n",
            "odd no: 407\n",
            "odd no: 609\n",
            "odd no: 299\n",
            "odd no: 173\n",
            "prime no: 173\n",
            "even no: 510\n",
            "even no: 190\n",
            "odd no: 843\n",
            "odd no: 861\n",
            "odd no: 263\n",
            "prime no: 263\n",
            "odd no: 811\n",
            "prime no: 811\n",
            "even no: 536\n",
            "even no: 658\n",
            "even no: 482\n",
            "odd no: 533\n",
            "even no: 206\n",
            "even no: 152\n",
            "even no: 740\n",
            "odd no: 237\n",
            "even no: 854\n",
            "odd no: 481\n",
            "odd no: 743\n",
            "prime no: 743\n",
            "even no: 322\n",
            "even no: 196\n",
            "even no: 318\n",
            "even no: 326\n",
            "even no: 102\n",
            "even no: 662\n",
            "even no: 264\n",
            "even no: 448\n",
            "odd no: 245\n",
            "even no: 886\n",
            "odd no: 645\n",
            "even no: 608\n",
            "even no: 790\n",
            "odd no: 803\n",
            "even no: 654\n",
            "odd no: 739\n",
            "prime no: 739\n",
            "even no: 462\n",
            "odd no: 841\n",
            "odd no: 365\n",
            "even no: 672\n",
            "even no: 716\n",
            "even no: 446\n",
            "even no: 226\n",
            "odd no: 107\n",
            "prime no: 107\n",
            "odd no: 475\n",
            "odd no: 737\n",
            "even no: 894\n",
            "even no: 142\n",
            "even no: 706\n",
            "odd no: 127\n",
            "prime no: 127\n",
            "even no: 472\n",
            "even no: 544\n",
            "odd no: 745\n",
            "even no: 514\n",
            "odd no: 141\n",
            "even no: 814\n",
            "odd no: 205\n",
            "odd no: 887\n",
            "prime no: 887\n",
            "odd no: 377\n",
            "odd no: 441\n",
            "even no: 884\n",
            "even no: 290\n",
            "odd no: 311\n",
            "prime no: 311\n",
            "odd no: 559\n",
            "odd no: 393\n",
            "odd no: 611\n",
            "even no: 278\n",
            "odd no: 695\n",
            "odd no: 863\n",
            "prime no: 863\n",
            "odd no: 849\n",
            "odd no: 363\n",
            "even no: 144\n",
            "odd no: 131\n",
            "prime no: 131\n",
            "odd no: 663\n",
            "odd no: 171\n",
            "even no: 634\n",
            "even no: 610\n",
            "even no: 378\n",
            "odd no: 641\n",
            "prime no: 641\n",
            "even no: 250\n",
            "odd no: 673\n",
            "prime no: 673\n",
            "total odd 49\n",
            "total even 51\n",
            "total prime 14\n"
          ]
        }
      ]
    },
    {
      "cell_type": "markdown",
      "source": [
        "4. Consider the following two sets, A and B, representing scores of two teams in multiple\n",
        "matches. A = {34, 56, 78, 90} and B = {78, 45, 90, 23}\n",
        "WAP to perform the following operations using set functions:\n",
        "i. Find the unique scores achieved by both teams (union of sets).\n",
        "ii. Identify the scores that are common to both teams (intersection of sets).\n",
        "iii. Find the scores that are exclusive to each team (symmetric difference).\n",
        "iv. Check if the scores of team A are a subset of team B, and if team B's scores are\n",
        "a superset of team A.\n",
        "v. Remove a specific score X (input by the user) from set A if it exists. If not, print\n",
        "a message saying it is not present."
      ],
      "metadata": {
        "id": "AkcKbEDlUpFQ"
      }
    },
    {
      "cell_type": "code",
      "source": [
        "A={34,56,78,90}\n",
        "B={78,45,90,23}\n",
        "print(A|B)\n",
        "print('A union B',A.union(B))\n",
        "print(A&B)\n",
        "print('A intersection B',A.intersection(B))\n",
        "print(A-B)\n",
        "print('set A-B',A.difference(B))\n",
        "print(B-A)\n",
        "print('set B-A',B.difference(A))\n",
        "if A|B==B:\n",
        "  print('A is subset of B')\n",
        "else:\n",
        "  print('A is not a subset of B')\n",
        "x=int(input('enter score x '))\n",
        "for i in A:\n",
        "  flag=True\n",
        "  if x==i:\n",
        "    flag=False\n",
        "    A.remove(x)\n",
        "    print(A)\n",
        "    break\n",
        "if flag:\n",
        "  print(x,'is not present in set A')"
      ],
      "metadata": {
        "colab": {
          "base_uri": "https://localhost:8080/"
        },
        "id": "9mzDgDvdeAl7",
        "outputId": "1d805825-6788-458a-99d4-942dab170f36"
      },
      "execution_count": null,
      "outputs": [
        {
          "output_type": "stream",
          "name": "stdout",
          "text": [
            "{34, 45, 78, 23, 56, 90}\n",
            "A union B {34, 45, 78, 23, 56, 90}\n",
            "{90, 78}\n",
            "A intersection B {90, 78}\n",
            "{56, 34}\n",
            "set A-B {56, 34}\n",
            "{45, 23}\n",
            "set B-A {45, 23}\n",
            "A is not a subset of B\n",
            "enter score x 90\n",
            "{56, 34, 78}\n"
          ]
        }
      ]
    },
    {
      "cell_type": "markdown",
      "source": [
        "5. Write a program to rename a key city to a location in the following dictionary."
      ],
      "metadata": {
        "id": "-9_42_mOksyk"
      }
    },
    {
      "cell_type": "code",
      "source": [
        "dict1={'name':'Saumya','age':'19','salary':8000,'city':'Patiala'}\n",
        "dict1['location']=dict1.pop('city')\n",
        "dict1"
      ],
      "metadata": {
        "colab": {
          "base_uri": "https://localhost:8080/"
        },
        "id": "lLngyTEKkzqM",
        "outputId": "0ed89d4d-ffcd-49e7-b41e-a568fbdbacb1"
      },
      "execution_count": null,
      "outputs": [
        {
          "output_type": "execute_result",
          "data": {
            "text/plain": [
              "{'name': 'Saumya', 'age': '19', 'salary': 8000, 'location': 'Patiala'}"
            ]
          },
          "metadata": {},
          "execution_count": 18
        }
      ]
    }
  ]
}