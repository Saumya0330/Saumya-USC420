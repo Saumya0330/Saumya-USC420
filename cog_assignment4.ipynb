{
  "nbformat": 4,
  "nbformat_minor": 0,
  "metadata": {
    "colab": {
      "provenance": [],
      "authorship_tag": "ABX9TyP6Xcp4SWt28IqI/jMLTghM",
      "include_colab_link": true
    },
    "kernelspec": {
      "name": "python3",
      "display_name": "Python 3"
    },
    "language_info": {
      "name": "python"
    }
  },
  "cells": [
    {
      "cell_type": "markdown",
      "metadata": {
        "id": "view-in-github",
        "colab_type": "text"
      },
      "source": [
        "<a href=\"https://colab.research.google.com/github/Saumya0330/Saumya-USC420/blob/main/cog_assignment4.ipynb\" target=\"_parent\"><img src=\"https://colab.research.google.com/assets/colab-badge.svg\" alt=\"Open In Colab\"/></a>"
      ]
    },
    {
      "cell_type": "markdown",
      "source": [
        "Q.1 Write a program to create a NumPy 1D-array with 5 elements and perform basic\n",
        "operations like:\n",
        "a) Addition of 2 in all the element\n",
        "b) Multiply 3 with all the elements\n",
        "c) Divide every element by 2"
      ],
      "metadata": {
        "id": "MT9cKi4QUu8l"
      }
    },
    {
      "cell_type": "code",
      "execution_count": null,
      "metadata": {
        "colab": {
          "base_uri": "https://localhost:8080/"
        },
        "id": "4g3NXJ_ZUr39",
        "outputId": "cb49fc90-0810-41f7-acbd-6c8f162f6b6e"
      },
      "outputs": [
        {
          "output_type": "stream",
          "name": "stdout",
          "text": [
            "[3 4 5 6 7]\n",
            "[ 9 12 15 18 21]\n",
            "[ 4  6  7  9 10]\n",
            "[ 6  8  9 11 12]\n",
            "[12 18 21 27 30]\n",
            "[2.  3.  3.5 4.5 5. ]\n"
          ]
        }
      ],
      "source": [
        "import numpy as np\n",
        "a=np.array([1,2,3,4,5])\n",
        "for i in range(5):\n",
        "  a[i]+=2\n",
        "print(a)\n",
        "for i in range(5):\n",
        "  a[i]*=3\n",
        "print(a)\n",
        "for i in range(5):\n",
        "  a[i]/=2\n",
        "print(a)\n",
        "\n",
        "print(a+2)\n",
        "print(a*3)\n",
        "print(a/2)"
      ]
    },
    {
      "cell_type": "markdown",
      "source": [
        "Q.2 Questions on Basic NumPy Array:\n",
        "a) Reverse the NumPy array: arr = np.array([1, 2, 3, 6, 4, 5])\n",
        "b) Find the most frequent value and their indice(s) in the following arrays:\n",
        "i. x = np.array([1,2,3,4,5,1,2,1,1,1])\n",
        "ii. y = np.array([1, 1, 1, 2, 3, 4, 2, 4, 3, 3, ])"
      ],
      "metadata": {
        "id": "-Qw5w5qEV7J1"
      }
    },
    {
      "cell_type": "code",
      "source": [
        "arr=np.array([1,2,3,6,4,5])\n",
        "print(np.flip(arr))\n",
        "\n",
        "x = np.array([1,2,3,4,5,1,2,1,1,1])\n",
        "indices_x=[]\n",
        "\n",
        "freq_x=np.bincount(x).argmax()\n",
        "print(freq_x)\n",
        "for i in range(len(x)):\n",
        "  if x[i]==freq_x:\n",
        "    indices_x.append(i)\n",
        "print(indices_x)\n",
        "\n",
        "y = np.array([1, 1, 1, 2, 3, 4, 2, 4, 3, 3, ])\n",
        "indices_y=[]\n",
        "freq_y=np.bincount(y)\n",
        "most_frequent_element = freq_y.argmax()\n",
        "for i in range(len(y)):\n",
        "  if y[i]==most_frequent_element:\n",
        "    print(y[i],\" \")\n",
        "#print(freq_y)\n",
        "for i in range(len(y)):\n",
        "  if y[i]==most_frequent_element:\n",
        "    indices_y.append(i)\n",
        "print(indices_y)"
      ],
      "metadata": {
        "colab": {
          "base_uri": "https://localhost:8080/"
        },
        "id": "kSaWWtCcV-8M",
        "outputId": "e7bd1f30-6d97-49d6-d4e2-51740da6020f"
      },
      "execution_count": null,
      "outputs": [
        {
          "output_type": "stream",
          "name": "stdout",
          "text": [
            "[5 4 6 3 2 1]\n",
            "1\n",
            "[0, 5, 7, 8, 9]\n",
            "1  \n",
            "1  \n",
            "1  \n",
            "[0, 1, 2]\n"
          ]
        }
      ]
    },
    {
      "cell_type": "code",
      "source": [
        "x = np.array([1, 1, 1, 2, 3, 4, 2, 4, 3, 3, ])\n",
        "print(\"Original array:\")\n",
        "print(x)\n",
        "indices_x=[]\n",
        "print(\"Most frequent value in above array\")\n",
        "y = np.bincount(x)\n",
        "maximum = max(y)\n",
        "\n",
        "for i in range(len(y)):\n",
        "    if y[i] == maximum:\n",
        "        print(i, end=\" \")\n",
        "        indices_x.append(i)\n",
        "print()\n",
        "for i in range(len(x)):\n",
        "  for j in range(len(indices_x)):\n",
        "    if x[i]==indices_x[j]:\n",
        "      print(i,end=\" \")\n",
        "print()"
      ],
      "metadata": {
        "colab": {
          "base_uri": "https://localhost:8080/"
        },
        "id": "EY6vualqdLl1",
        "outputId": "7cab8da2-334a-4adf-c7dd-8a94449195cf"
      },
      "execution_count": null,
      "outputs": [
        {
          "output_type": "stream",
          "name": "stdout",
          "text": [
            "Original array:\n",
            "[1 1 1 2 3 4 2 4 3 3]\n",
            "Most frequent value in above array\n",
            "1 3 \n",
            "0 1 2 4 8 9 \n"
          ]
        }
      ]
    },
    {
      "cell_type": "markdown",
      "source": [
        "Q.3 For the given 2-D array arr=np.array([10, 20, 30], [40, 50, 60], [70, 80, 90]), access\n",
        "elements using row and column indices as follows:\n",
        "a) Access 1st row, 2nd column\n",
        "b) Access 3rd row, 1st column"
      ],
      "metadata": {
        "id": "HKTvMiChe-xm"
      }
    },
    {
      "cell_type": "code",
      "source": [
        "arr=np.array([[10, 20, 30], [40, 50, 60], [70, 80, 90]])\n",
        "print(arr[0,1])\n",
        "print(arr[2,0])"
      ],
      "metadata": {
        "colab": {
          "base_uri": "https://localhost:8080/"
        },
        "id": "3gxVkLkxfBJd",
        "outputId": "1645f202-4250-4903-fd73-d8385f4c1368"
      },
      "execution_count": null,
      "outputs": [
        {
          "output_type": "stream",
          "name": "stdout",
          "text": [
            "20\n",
            "70\n"
          ]
        }
      ]
    },
    {
      "cell_type": "markdown",
      "source": [
        "Q.4 Write program to create an 1-D NumPy array named <<Your Name>> with evenly\n",
        "spaced 25 numbers from 10 to 100 using linspace(). Print the dimensions of the array,\n",
        "shape, total elements, the data type of each element and total number of bytes consumed\n",
        "by the array. Find the transpose of this array using reshape() attribute. Can we do the same\n",
        "with T attribute?"
      ],
      "metadata": {
        "id": "n2xR_uDbgCRe"
      }
    },
    {
      "cell_type": "code",
      "source": [
        "arr=np.linspace(10,100,num=25)\n",
        "print(arr)\n",
        "print(arr.ndim)\n",
        "print(arr.shape)\n",
        "print(arr.size)\n",
        "print(arr.dtype)\n",
        "print(arr.nbytes)\n",
        "print(arr.reshape(5,5))\n",
        "print(arr.T)"
      ],
      "metadata": {
        "colab": {
          "base_uri": "https://localhost:8080/"
        },
        "id": "4ivN6zakgDLm",
        "outputId": "3c87364f-5be3-49f1-ef40-964409320e9e"
      },
      "execution_count": null,
      "outputs": [
        {
          "output_type": "stream",
          "name": "stdout",
          "text": [
            "[ 10.    13.75  17.5   21.25  25.    28.75  32.5   36.25  40.    43.75\n",
            "  47.5   51.25  55.    58.75  62.5   66.25  70.    73.75  77.5   81.25\n",
            "  85.    88.75  92.5   96.25 100.  ]\n",
            "1\n",
            "(25,)\n",
            "25\n",
            "float64\n",
            "200\n",
            "[[ 10.    13.75  17.5   21.25  25.  ]\n",
            " [ 28.75  32.5   36.25  40.    43.75]\n",
            " [ 47.5   51.25  55.    58.75  62.5 ]\n",
            " [ 66.25  70.    73.75  77.5   81.25]\n",
            " [ 85.    88.75  92.5   96.25 100.  ]]\n",
            "[ 10.    13.75  17.5   21.25  25.    28.75  32.5   36.25  40.    43.75\n",
            "  47.5   51.25  55.    58.75  62.5   66.25  70.    73.75  77.5   81.25\n",
            "  85.    88.75  92.5   96.25 100.  ]\n"
          ]
        }
      ]
    },
    {
      "cell_type": "markdown",
      "source": [
        "Q5. Create a 2-D Array of three rows and four columns, named ucs420_<your_name>>\n",
        "with following values – 10, 20, 30, 40, 50, 60, 70, 80, 90, 15, 20, 35. Compute the mean,\n",
        "median, max, min, unique elements. Reshape the array to four rows and three columns and\n",
        "name it as reshaped_ ucs420_<your_name>>. Resize the array to two rows and three\n",
        "columns and name it as resized_ ucs420_<your_name>>."
      ],
      "metadata": {
        "id": "CboH0rQiiKRu"
      }
    },
    {
      "cell_type": "code",
      "source": [
        "import numpy as np\n",
        "arr=np.array([10,20,30,40,50,60,70,80,90,15,20,35])\n",
        "ucs420=arr.reshape(3,4)\n",
        "print(ucs420)\n",
        "print(ucs420.mean())\n",
        "print(np.median(ucs420))\n",
        "print(ucs420.min())\n",
        "print(np.unique(ucs420))\n",
        "reshaped_ucs420=ucs420.reshape(4,3)\n",
        "print(reshaped_ucs420)\n",
        "resized_ucs420=np.resize(arr,(2,3))\n",
        "print(resized_ucs420)"
      ],
      "metadata": {
        "colab": {
          "base_uri": "https://localhost:8080/"
        },
        "id": "0DkHxf8iiM5t",
        "outputId": "fc1a56a6-6f77-40a0-879f-76f17cb56c0b"
      },
      "execution_count": 4,
      "outputs": [
        {
          "output_type": "stream",
          "name": "stdout",
          "text": [
            "[[10 20 30 40]\n",
            " [50 60 70 80]\n",
            " [90 15 20 35]]\n",
            "43.333333333333336\n",
            "37.5\n",
            "10\n",
            "[10 15 20 30 35 40 50 60 70 80 90]\n",
            "[[10 20 30]\n",
            " [40 50 60]\n",
            " [70 80 90]\n",
            " [15 20 35]]\n",
            "[[10 20 30]\n",
            " [40 50 60]]\n"
          ]
        }
      ]
    }
  ]
}